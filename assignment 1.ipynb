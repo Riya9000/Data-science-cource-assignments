{
 "cells": [
  {
   "cell_type": "markdown",
   "id": "898a00fc-262a-4081-b3e7-deed1dc421bd",
   "metadata": {},
   "source": [
    "Q1. Create one variable containing following type of data:\n",
    "(i) string\n",
    "(ii) list\n",
    "(iii) float\n",
    "(iv) tuple"
   ]
  },
  {
   "cell_type": "code",
   "execution_count": 1,
   "id": "0a5781a0-c232-4380-a05b-4c86fd4d0560",
   "metadata": {},
   "outputs": [],
   "source": [
    "a='Riya'"
   ]
  },
  {
   "cell_type": "code",
   "execution_count": 2,
   "id": "2b791bf3-f52b-42e2-a0c9-4d3650eb11ea",
   "metadata": {},
   "outputs": [
    {
     "data": {
      "text/plain": [
       "str"
      ]
     },
     "execution_count": 2,
     "metadata": {},
     "output_type": "execute_result"
    }
   ],
   "source": [
    "type(a)"
   ]
  },
  {
   "cell_type": "code",
   "execution_count": 3,
   "id": "249dcf64-49e7-4fb0-836d-7c32a49a40ca",
   "metadata": {},
   "outputs": [],
   "source": [
    "b=[1, 2, 3, 2+4j, 'Riya', 11.3]"
   ]
  },
  {
   "cell_type": "code",
   "execution_count": 4,
   "id": "3d10fd44-f9be-4582-95d6-e0cf05517ed0",
   "metadata": {},
   "outputs": [
    {
     "data": {
      "text/plain": [
       "list"
      ]
     },
     "execution_count": 4,
     "metadata": {},
     "output_type": "execute_result"
    }
   ],
   "source": [
    "type(b)"
   ]
  },
  {
   "cell_type": "code",
   "execution_count": 5,
   "id": "4c3bec4c-b11b-4f75-b584-6ce093557af8",
   "metadata": {},
   "outputs": [],
   "source": [
    "c= 23.67"
   ]
  },
  {
   "cell_type": "code",
   "execution_count": 6,
   "id": "50caa61f-3e4c-4515-86c6-ef4e44278d47",
   "metadata": {},
   "outputs": [
    {
     "data": {
      "text/plain": [
       "float"
      ]
     },
     "execution_count": 6,
     "metadata": {},
     "output_type": "execute_result"
    }
   ],
   "source": [
    "type(c)"
   ]
  },
  {
   "cell_type": "code",
   "execution_count": 9,
   "id": "92e08724-63f8-4a65-891a-1327c4a3d860",
   "metadata": {},
   "outputs": [
    {
     "data": {
      "text/plain": [
       "[1, 2, 3, (2+4j), 'Riya', 11.3]"
      ]
     },
     "execution_count": 9,
     "metadata": {},
     "output_type": "execute_result"
    }
   ],
   "source": [
    "b"
   ]
  },
  {
   "cell_type": "code",
   "execution_count": 11,
   "id": "fcd20b36-4f13-4099-8c6f-ca7ee2835940",
   "metadata": {},
   "outputs": [
    {
     "data": {
      "text/plain": [
       "'Riya'"
      ]
     },
     "execution_count": 11,
     "metadata": {},
     "output_type": "execute_result"
    }
   ],
   "source": [
    "b[4]"
   ]
  },
  {
   "cell_type": "markdown",
   "id": "108d3bc4-3282-4d49-899b-610eac24e5dd",
   "metadata": {},
   "source": [
    "Q2. Given are some following variables containing data:\n",
    "(i) var1 = ‘ ‘\n",
    "(ii) var2 = ‘[ DS , ML , Python]’\n",
    "(iii) var3 = [ ‘DS’ , ’ML’ , ‘Python’ ]\n",
    "(iv) var4 = 1."
   ]
  },
  {
   "cell_type": "code",
   "execution_count": 12,
   "id": "8e84d25b-3b65-4a5e-bc94-c37b36675a98",
   "metadata": {},
   "outputs": [],
   "source": [
    "var1 = ''"
   ]
  },
  {
   "cell_type": "code",
   "execution_count": 13,
   "id": "f511dd1d-56e8-4e0b-848f-783ee2cc3d57",
   "metadata": {},
   "outputs": [
    {
     "data": {
      "text/plain": [
       "''"
      ]
     },
     "execution_count": 13,
     "metadata": {},
     "output_type": "execute_result"
    }
   ],
   "source": [
    "var1 "
   ]
  },
  {
   "cell_type": "code",
   "execution_count": 15,
   "id": "8ec17bec-043c-4782-9610-55a7959dfcc9",
   "metadata": {},
   "outputs": [
    {
     "data": {
      "text/plain": [
       "str"
      ]
     },
     "execution_count": 15,
     "metadata": {},
     "output_type": "execute_result"
    }
   ],
   "source": [
    "type(var1)"
   ]
  },
  {
   "cell_type": "code",
   "execution_count": 17,
   "id": "f08513dd-231f-4d41-bb14-4b7920bbbdef",
   "metadata": {},
   "outputs": [],
   "source": [
    "var2 = '[ DS , ML , Python]'"
   ]
  },
  {
   "cell_type": "code",
   "execution_count": 18,
   "id": "b4c9d9d8-4b31-4eef-92c5-7df361f92565",
   "metadata": {},
   "outputs": [
    {
     "data": {
      "text/plain": [
       "'[ DS , ML , Python]'"
      ]
     },
     "execution_count": 18,
     "metadata": {},
     "output_type": "execute_result"
    }
   ],
   "source": [
    "var2 "
   ]
  },
  {
   "cell_type": "code",
   "execution_count": 19,
   "id": "c15b8652-185d-430b-b213-a0821cc99c3b",
   "metadata": {},
   "outputs": [
    {
     "data": {
      "text/plain": [
       "str"
      ]
     },
     "execution_count": 19,
     "metadata": {},
     "output_type": "execute_result"
    }
   ],
   "source": [
    "type(var2)"
   ]
  },
  {
   "cell_type": "code",
   "execution_count": 20,
   "id": "f14367a2-e024-4560-b49f-219d2755e656",
   "metadata": {},
   "outputs": [],
   "source": [
    "var3 = [ 'DS' , 'ML' , 'Python' ]"
   ]
  },
  {
   "cell_type": "code",
   "execution_count": 21,
   "id": "6a487dd6-0569-4d10-8db1-1141affcf00a",
   "metadata": {},
   "outputs": [
    {
     "data": {
      "text/plain": [
       "['DS', 'ML', 'Python']"
      ]
     },
     "execution_count": 21,
     "metadata": {},
     "output_type": "execute_result"
    }
   ],
   "source": [
    "var3"
   ]
  },
  {
   "cell_type": "code",
   "execution_count": 22,
   "id": "c9a5ed29-4652-4c55-a9c0-38a1fc96e747",
   "metadata": {},
   "outputs": [
    {
     "data": {
      "text/plain": [
       "list"
      ]
     },
     "execution_count": 22,
     "metadata": {},
     "output_type": "execute_result"
    }
   ],
   "source": [
    "type(var3)"
   ]
  },
  {
   "cell_type": "code",
   "execution_count": 29,
   "id": "0785e7b8-f7e6-4da0-8dda-e9536d3ac3fe",
   "metadata": {},
   "outputs": [],
   "source": [
    " var4 = 1"
   ]
  },
  {
   "cell_type": "code",
   "execution_count": 30,
   "id": "c6267145-bac7-4b89-94bb-0706ef40a4c3",
   "metadata": {},
   "outputs": [
    {
     "data": {
      "text/plain": [
       "1"
      ]
     },
     "execution_count": 30,
     "metadata": {},
     "output_type": "execute_result"
    }
   ],
   "source": [
    " var4 "
   ]
  },
  {
   "cell_type": "code",
   "execution_count": 31,
   "id": "d3c3b47d-abce-496a-8c9a-aa97cc89f1f8",
   "metadata": {},
   "outputs": [
    {
     "data": {
      "text/plain": [
       "int"
      ]
     },
     "execution_count": 31,
     "metadata": {},
     "output_type": "execute_result"
    }
   ],
   "source": [
    "type(var4)"
   ]
  },
  {
   "cell_type": "markdown",
   "id": "2dfbeb7c-6072-4533-8c64-1effe6e101d5",
   "metadata": {},
   "source": [
    "Q3. Explain the use of the following operators using an example:\n",
    "(i) /\n",
    "(ii) %\n",
    "(iii) //\n",
    "(iv) **"
   ]
  },
  {
   "cell_type": "code",
   "execution_count": 32,
   "id": "3d315b3b-06cf-423e-b423-a739f2f1bf28",
   "metadata": {},
   "outputs": [
    {
     "data": {
      "text/plain": [
       "5.0"
      ]
     },
     "execution_count": 32,
     "metadata": {},
     "output_type": "execute_result"
    }
   ],
   "source": [
    "10/2 #simple division"
   ]
  },
  {
   "cell_type": "code",
   "execution_count": 37,
   "id": "62b37b85-eb49-4df3-9f2a-15107c14756c",
   "metadata": {},
   "outputs": [
    {
     "data": {
      "text/plain": [
       "1"
      ]
     },
     "execution_count": 37,
     "metadata": {},
     "output_type": "execute_result"
    }
   ],
   "source": [
    "10%3 #remainder left in the division"
   ]
  },
  {
   "cell_type": "code",
   "execution_count": 38,
   "id": "7dac0243-cc66-44f7-9638-2d7e2f909d9a",
   "metadata": {},
   "outputs": [
    {
     "data": {
      "text/plain": [
       "1.0"
      ]
     },
     "execution_count": 38,
     "metadata": {},
     "output_type": "execute_result"
    }
   ],
   "source": [
    "10//7.8 #the answer will be 1.28 but using floor division it produces the value of the nearest whole number.\n",
    "1.0"
   ]
  },
  {
   "cell_type": "code",
   "execution_count": 39,
   "id": "0149a441-861d-49d2-a58d-6a611195b29e",
   "metadata": {},
   "outputs": [
    {
     "data": {
      "text/plain": [
       "81"
      ]
     },
     "execution_count": 39,
     "metadata": {},
     "output_type": "execute_result"
    }
   ],
   "source": [
    "9**2 #expoenential operator"
   ]
  },
  {
   "cell_type": "markdown",
   "id": "08de3879-cf71-4b5c-b2fe-34d7f2413b7b",
   "metadata": {},
   "source": [
    "Q4. Create a list of length 10 of your choice containing multiple types of data. Using for loop print the\n",
    "element and its data type."
   ]
  },
  {
   "cell_type": "code",
   "execution_count": 40,
   "id": "313fac25-2123-45d5-aa5c-a35dd0e3f2ec",
   "metadata": {},
   "outputs": [],
   "source": [
    "l=[1,2,3,4,5,'riya','pwskills',2.3,3+5j,10]"
   ]
  },
  {
   "cell_type": "code",
   "execution_count": 41,
   "id": "6fe7f176-ed50-4e87-b024-618319fc3332",
   "metadata": {},
   "outputs": [
    {
     "data": {
      "text/plain": [
       "[1, 2, 3, 4, 5, 'riya', 'pwskills', 2.3, (3+5j), 10]"
      ]
     },
     "execution_count": 41,
     "metadata": {},
     "output_type": "execute_result"
    }
   ],
   "source": [
    "l"
   ]
  },
  {
   "cell_type": "code",
   "execution_count": 42,
   "id": "9d088fa5-e7e7-4351-855f-06fae6222522",
   "metadata": {},
   "outputs": [
    {
     "name": "stdout",
     "output_type": "stream",
     "text": [
      "<class 'int'>\n",
      "1\n",
      "<class 'int'>\n",
      "2\n",
      "<class 'int'>\n",
      "3\n",
      "<class 'int'>\n",
      "4\n",
      "<class 'int'>\n",
      "5\n",
      "<class 'str'>\n",
      "riya\n",
      "<class 'str'>\n",
      "pwskills\n",
      "<class 'float'>\n",
      "2.3\n",
      "<class 'complex'>\n",
      "(3+5j)\n",
      "<class 'int'>\n",
      "10\n"
     ]
    }
   ],
   "source": [
    "for i in l :\n",
    "    print(type(i))\n",
    "    print(i)"
   ]
  },
  {
   "cell_type": "markdown",
   "id": "e8c4d55f-75be-4d7f-8cab-0ffa4ee61b72",
   "metadata": {},
   "source": [
    "Q5. Using a while loop, verify if the number A is purely divisible by number B and if so then how many\n",
    "times it can be divisible."
   ]
  },
  {
   "cell_type": "code",
   "execution_count": 58,
   "id": "f8b13cbc-cb59-45b5-a5e7-529c2a0e6127",
   "metadata": {},
   "outputs": [
    {
     "name": "stdout",
     "output_type": "stream",
     "text": [
      "A is divisible by B 1 times.\n"
     ]
    }
   ],
   "source": [
    "A = 24\n",
    "B = 4\n",
    "count = 0\n",
    "\n",
    "while A % B == 0:\n",
    "    A = A / B\n",
    "    count += 1\n",
    "\n",
    "print(\"A is divisible by B\", count, \"times.\")"
   ]
  },
  {
   "cell_type": "markdown",
   "id": "d48dcef7-60d4-4233-b304-b792912604a0",
   "metadata": {},
   "source": [
    "Q6. Create a list containing 25 int type data. Using for loop and if-else condition print if the element is\n",
    "divisible by 3 or not."
   ]
  },
  {
   "cell_type": "code",
   "execution_count": 59,
   "id": "6a3527a6-4a10-4314-aeed-e5364c5f4c72",
   "metadata": {},
   "outputs": [],
   "source": [
    "l=[15,3,25,67]"
   ]
  },
  {
   "cell_type": "code",
   "execution_count": 60,
   "id": "60899fb0-67fb-4552-bce8-0931d7b88111",
   "metadata": {},
   "outputs": [
    {
     "data": {
      "text/plain": [
       "[15, 3, 25, 67]"
      ]
     },
     "execution_count": 60,
     "metadata": {},
     "output_type": "execute_result"
    }
   ],
   "source": [
    "l"
   ]
  },
  {
   "cell_type": "code",
   "execution_count": 65,
   "id": "0e11b99e-4048-4ea8-9ef4-1863f612f59c",
   "metadata": {},
   "outputs": [
    {
     "name": "stdout",
     "output_type": "stream",
     "text": [
      "i is divisible by 3\n",
      "i is divisible by 3\n",
      "i is not divisible by 3\n",
      "i is not divisible by 3\n"
     ]
    }
   ],
   "source": [
    "for i in l :\n",
    "    if i % 3 == 0:\n",
    "        print(\"i is divisible by 3\")\n",
    "    else:\n",
    "        print(\"i is not divisible by 3\")"
   ]
  },
  {
   "cell_type": "markdown",
   "id": "97cf1e72-a161-422b-ba86-fb948edf8b4f",
   "metadata": {},
   "source": [
    "Q7. What do you understand about mutable and immutable data types? Give examples for both showing\n",
    "this property."
   ]
  },
  {
   "cell_type": "markdown",
   "id": "bbd17e03-86e5-4ba2-a822-d0241e7848be",
   "metadata": {},
   "source": [
    "Mutable: Mutable data types are those whose values can be changed after they are created. Examples include lists, dictionaries, and sets. When you modify a mutable object, it retains the same identity (memory address), but its internal state can be altered."
   ]
  },
  {
   "cell_type": "code",
   "execution_count": 66,
   "id": "cf32339f-5679-4c67-8a48-ab1bdaabc95c",
   "metadata": {},
   "outputs": [],
   "source": [
    "# Example of mutable data type (list)\n",
    "l=[1,2,67,5-6j,'Riya',3.5]"
   ]
  },
  {
   "cell_type": "code",
   "execution_count": 67,
   "id": "bd9d0392-68ac-4a9a-8d0c-5981f221c5fd",
   "metadata": {},
   "outputs": [
    {
     "data": {
      "text/plain": [
       "[1, 2, 67, (5-6j), 'Riya', 3.5]"
      ]
     },
     "execution_count": 67,
     "metadata": {},
     "output_type": "execute_result"
    }
   ],
   "source": [
    "l"
   ]
  },
  {
   "cell_type": "code",
   "execution_count": 68,
   "id": "20a4bbbe-485c-4cfc-8d71-b429ffa7fc70",
   "metadata": {},
   "outputs": [],
   "source": [
    "l.append(56)"
   ]
  },
  {
   "cell_type": "code",
   "execution_count": 69,
   "id": "d3a224d8-33d3-4cf4-89bb-c1cd2090cec6",
   "metadata": {},
   "outputs": [
    {
     "data": {
      "text/plain": [
       "[1, 2, 67, (5-6j), 'Riya', 3.5, 56]"
      ]
     },
     "execution_count": 69,
     "metadata": {},
     "output_type": "execute_result"
    }
   ],
   "source": [
    "l"
   ]
  },
  {
   "cell_type": "code",
   "execution_count": 70,
   "id": "0494f3c2-a89a-4d33-a185-5ada87d3949d",
   "metadata": {},
   "outputs": [
    {
     "data": {
      "text/plain": [
       "'Riya'"
      ]
     },
     "execution_count": 70,
     "metadata": {},
     "output_type": "execute_result"
    }
   ],
   "source": [
    "l.pop(4)"
   ]
  },
  {
   "cell_type": "code",
   "execution_count": 71,
   "id": "8d79dadd-e516-4c65-9072-d16d562e24f7",
   "metadata": {},
   "outputs": [
    {
     "data": {
      "text/plain": [
       "[1, 2, 67, (5-6j), 3.5, 56]"
      ]
     },
     "execution_count": 71,
     "metadata": {},
     "output_type": "execute_result"
    }
   ],
   "source": [
    "l"
   ]
  },
  {
   "cell_type": "code",
   "execution_count": 72,
   "id": "4e331fc8-8df7-4c3a-b7ea-30c978007633",
   "metadata": {},
   "outputs": [],
   "source": [
    "# Example of immutable data type (string)\n",
    "k = \"Riya\""
   ]
  },
  {
   "cell_type": "code",
   "execution_count": 73,
   "id": "747be774-1c8b-4ee8-9f3a-aa0c1e3be775",
   "metadata": {},
   "outputs": [
    {
     "data": {
      "text/plain": [
       "'Riya'"
      ]
     },
     "execution_count": 73,
     "metadata": {},
     "output_type": "execute_result"
    }
   ],
   "source": [
    "k"
   ]
  },
  {
   "cell_type": "code",
   "execution_count": 74,
   "id": "3631e4b7-eb8a-4500-bd10-cf521342e262",
   "metadata": {},
   "outputs": [
    {
     "ename": "TypeError",
     "evalue": "'str' object does not support item assignment",
     "output_type": "error",
     "traceback": [
      "\u001b[0;31m---------------------------------------------------------------------------\u001b[0m",
      "\u001b[0;31mTypeError\u001b[0m                                 Traceback (most recent call last)",
      "Cell \u001b[0;32mIn[74], line 1\u001b[0m\n\u001b[0;32m----> 1\u001b[0m \u001b[43mk\u001b[49m\u001b[43m[\u001b[49m\u001b[38;5;241;43m1\u001b[39;49m\u001b[43m]\u001b[49m \u001b[38;5;241m=\u001b[39m \u001b[38;5;124m'\u001b[39m\u001b[38;5;124ma\u001b[39m\u001b[38;5;124m'\u001b[39m\n",
      "\u001b[0;31mTypeError\u001b[0m: 'str' object does not support item assignment"
     ]
    }
   ],
   "source": [
    "k[1] = 'a'"
   ]
  },
  {
   "cell_type": "code",
   "execution_count": null,
   "id": "5d3d6892-f09d-4024-bb53-b8d572744228",
   "metadata": {},
   "outputs": [],
   "source": []
  }
 ],
 "metadata": {
  "kernelspec": {
   "display_name": "Python 3 (ipykernel)",
   "language": "python",
   "name": "python3"
  },
  "language_info": {
   "codemirror_mode": {
    "name": "ipython",
    "version": 3
   },
   "file_extension": ".py",
   "mimetype": "text/x-python",
   "name": "python",
   "nbconvert_exporter": "python",
   "pygments_lexer": "ipython3",
   "version": "3.10.8"
  }
 },
 "nbformat": 4,
 "nbformat_minor": 5
}
